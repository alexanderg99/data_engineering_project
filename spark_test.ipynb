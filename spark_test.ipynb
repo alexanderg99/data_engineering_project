{
 "cells": [
  {
   "cell_type": "code",
   "execution_count": 41,
   "metadata": {},
   "outputs": [
    {
     "name": "stdout",
     "output_type": "stream",
     "text": [
      "+---------------------------+----------+--------------------+---------+--------+------------------------------------+-----------------+-----------------+-----------+-------------+-----------+-------------------+-------------+--------------+-----------------+---------------------------+-----------------+----------------------+------------------+-----------------------+------------------------------+-------------------------+------------------+\n",
      "|                        _c0|    app_id|            app_name|review_id|language|                              review|timestamp_created|timestamp_updated|recommended|votes_helpful|votes_funny|weighted_vote_score|comment_count|steam_purchase|received_for_free|written_during_early_access|   author.steamid|author.num_games_owned|author.num_reviews|author.playtime_forever|author.playtime_last_two_weeks|author.playtime_at_review|author.last_played|\n",
      "+---------------------------+----------+--------------------+---------+--------+------------------------------------+-----------------+-----------------+-----------+-------------+-----------+-------------------+-------------+--------------+-----------------+---------------------------+-----------------+----------------------+------------------+-----------------------+------------------------------+-------------------------+------------------+\n",
      "|                          0|    292030|The Witcher 3: Wi...| 85185598|schinese|  不玩此生遗憾，RPG游戏里的天花板...|       1611381629|       1611381629|       True|            0|          0|                0.0|            0|          True|            False|                      False|76561199095369542|                     6|                 2|                 1909.0|                        1448.0|                   1909.0|      1611343383.0|\n",
      "|                          1|    292030|The Witcher 3: Wi...| 85185250|schinese|         拔DIAO无情打桩机--杰洛特!!!|       1611381030|       1611381030|       True|            0|          0|                0.0|            0|          True|            False|                      False|76561198949504115|                    30|                10|                 2764.0|                        2743.0|                   2674.0|      1611386307.0|\n",
      "|                          2|    292030|The Witcher 3: Wi...| 85185111|schinese|                             巫师3NB|       1611380800|       1611380800|       True|            0|          0|                0.0|            0|          True|            False|                      False|76561199090098988|                     5|                 1|                 1061.0|                        1061.0|                   1060.0|      1611383777.0|\n",
      "|                          3|    292030|The Witcher 3: Wi...| 85184605| english|                One of the best R...|       1611379970|       1611379970|       True|            0|          0|                0.0|            0|          True|            False|                      False|76561199054755373|                     5|                 3|                 5587.0|                        3200.0|                   5524.0|      1611383744.0|\n",
      "|                          4|    292030|The Witcher 3: Wi...| 85184287|schinese|                                大作|       1611379427|       1611379427|       True|            0|          0|                0.0|            0|          True|            False|                      False|76561199028326951|                     7|                 4|                  217.0|                          42.0|                    217.0|      1610788249.0|\n",
      "|                          5|    292030|The Witcher 3: Wi...| 85184171| english|                good story, good ...|       1611379264|       1611379264|       True|            0|          0|                0.0|            0|          True|            False|                      False|76561198170193529|                    11|                 1|                  823.0|                         823.0|                    823.0|      1611379201.0|\n",
      "|                          6|    292030|The Witcher 3: Wi...| 85184064| english|                            dis gud,|       1611379091|       1611379091|       True|            0|          0|                0.0|            0|          True|            False|                      False|76561198119302812|                    27|                 2|                 4192.0|                        3398.0|                   4192.0|      1611351734.0|\n",
      "|                          7|    292030|The Witcher 3: Wi...| 85183602| turkish|                                   .|             NULL|             NULL|       NULL|         NULL|       NULL|               NULL|         NULL|          NULL|             NULL|                       NULL|             NULL|                  NULL|              NULL|                   NULL|                          NULL|                     NULL|              NULL|\n",
      "|       ,1611378312,16113...|      NULL|                NULL|     NULL|    NULL|                                NULL|             NULL|             NULL|       NULL|         NULL|       NULL|               NULL|         NULL|          NULL|             NULL|                       NULL|             NULL|                  NULL|              NULL|                   NULL|                          NULL|                     NULL|              NULL|\n",
      "|                          8|    292030|The Witcher 3: Wi...| 85183227|schinese|    年度最佳的作品，没啥好夸的，神作|       1611377703|       1611377703|       True|            0|          0|                0.0|            0|          True|            False|                      False|76561198130808993|                   581|                17|                 6921.0|                         222.0|                   6921.0|      1611317275.0|\n",
      "|                          9|    292030|The Witcher 3: Wi...| 85182785| spanish|                          great game|       1611377005|       1611377005|       True|            0|          0|                0.0|            0|          True|            False|                      False|76561198301724112|                    38|                 5|                 2399.0|                         333.0|                   2364.0|      1611379080.0|\n",
      "|                         10|    292030|The Witcher 3: Wi...| 85182697|schinese|                          神作！不bb|       1611376831|       1611376831|       True|            0|          0|                0.0|            0|         False|            False|                      False|76561199089209577|                    29|                 1|                 5368.0|                        1471.0|                   5368.0|      1611371665.0|\n",
      "|                         11|    292030|The Witcher 3: Wi...| 85182372| russian|                Шикарная игра с о...|       1611376281|       1611376281|       True|            0|          0|                0.0|            0|          True|            False|                      False|76561198257031328|                    11|                 2|                  508.0|                         508.0|                    348.0|      1611386568.0|\n",
      "|                         12|    292030|The Witcher 3: Wi...| 85182067|schinese|   \"什么?你儿子失踪了?什么?这栋房...|             NULL|             NULL|       NULL|         NULL|       NULL|               NULL|         NULL|          NULL|             NULL|                       NULL|             NULL|                  NULL|              NULL|                   NULL|                          NULL|                     NULL|              NULL|\n",
      "|抱歉这个梗我玩一辈子(狗头)\"|1611375772|          1611375772|     True|       0|                                   0|              0.0|                0|       True|        False|      False|  76561198348941585|           20|             1|           6598.0|                       29.0|           6598.0|          1610715923.0|              NULL|                   NULL|                          NULL|                     NULL|              NULL|\n",
      "|                         13|    292030|The Witcher 3: Wi...| 85181146| russian|                Замечательная кар...|       1611374238|       1611374309|       True|            0|          0|                0.0|            0|          True|            False|                      False|76561197987104694|                   501|                23|                 7310.0|                           0.0|                   7310.0|      1525554549.0|\n",
      "|                         14|    292030|The Witcher 3: Wi...| 85181114| koreana|                           가성비 짱|       1611374195|       1611374195|       True|            0|          0|                0.0|            0|          True|            False|                      False|76561199120263118|                     1|                 1|                 3285.0|                        3084.0|                   3205.0|      1611385840.0|\n",
      "|                         15|    292030|The Witcher 3: Wi...| 85180815|   latam|                The witcher 3 es ...|       1611373708|       1611373708|       True|            0|          0|                0.0|            0|          True|            False|                      False|76561198301696591|                     5|                 1|                 3586.0|                           0.0|                   3586.0|      1609390978.0|\n",
      "|                         16|    292030|The Witcher 3: Wi...| 85180734|schinese|当你玩进去之后，一切都顺理成章了起来|       1611373593|       1611373593|       True|            0|          0|                0.0|            0|          True|            False|                      False|76561198985671330|                     9|                 1|                 5483.0|                        2184.0|                   5483.0|      1611371203.0|\n",
      "|                         17|    292030|The Witcher 3: Wi...| 85180438|schinese|                    剑舞天下无敌！！|       1611373087|       1611373087|       True|            0|          0|                0.0|            0|         False|            False|                      False|76561198149550625|                    66|                 7|                 5442.0|                        1643.0|                   5396.0|      1611386646.0|\n",
      "+---------------------------+----------+--------------------+---------+--------+------------------------------------+-----------------+-----------------+-----------+-------------+-----------+-------------------+-------------+--------------+-----------------+---------------------------+-----------------+----------------------+------------------+-----------------------+------------------------------+-------------------------+------------------+\n",
      "only showing top 20 rows\n",
      "\n"
     ]
    },
    {
     "name": "stderr",
     "output_type": "stream",
     "text": [
      "24/02/01 20:09:58 WARN CSVHeaderChecker: CSV header does not conform to the schema.\n",
      " Header: , app_id, app_name, review_id, language, review, timestamp_created, timestamp_updated, recommended, votes_helpful, votes_funny, weighted_vote_score, comment_count, steam_purchase, received_for_free, written_during_early_access, author.steamid, author.num_games_owned, author.num_reviews, author.playtime_forever, author.playtime_last_two_weeks, author.playtime_at_review, author.last_played\n",
      " Schema: _c0, app_id, app_name, review_id, language, review, timestamp_created, timestamp_updated, recommended, votes_helpful, votes_funny, weighted_vote_score, comment_count, steam_purchase, received_for_free, written_during_early_access, author.steamid, author.num_games_owned, author.num_reviews, author.playtime_forever, author.playtime_last_two_weeks, author.playtime_at_review, author.last_played\n",
      "Expected: _c0 but found: \n",
      "CSV file: file:///Users/alexandergunawan/data_engineer/data/steam_reviews.csv\n"
     ]
    }
   ],
   "source": [
    "import pyspark\n",
    "from pyspark.sql import SparkSession\n",
    "\n",
    "spark = SparkSession.builder.master(\"local[*]\").appName(\"test\").getOrCreate()\n",
    "\n",
    "df = spark.read.option(\"header\", \"true\").csv(\"data/steam_reviews.csv\")\n",
    "df.show()\n",
    "\n"
   ]
  },
  {
   "cell_type": "code",
   "execution_count": 42,
   "metadata": {},
   "outputs": [
    {
     "data": {
      "text/plain": [
       "StructType([StructField('_c0', StringType(), True), StructField('app_id', StringType(), True), StructField('app_name', StringType(), True), StructField('review_id', StringType(), True), StructField('language', StringType(), True), StructField('review', StringType(), True), StructField('timestamp_created', StringType(), True), StructField('timestamp_updated', StringType(), True), StructField('recommended', StringType(), True), StructField('votes_helpful', StringType(), True), StructField('votes_funny', StringType(), True), StructField('weighted_vote_score', StringType(), True), StructField('comment_count', StringType(), True), StructField('steam_purchase', StringType(), True), StructField('received_for_free', StringType(), True), StructField('written_during_early_access', StringType(), True), StructField('author.steamid', StringType(), True), StructField('author.num_games_owned', StringType(), True), StructField('author.num_reviews', StringType(), True), StructField('author.playtime_forever', StringType(), True), StructField('author.playtime_last_two_weeks', StringType(), True), StructField('author.playtime_at_review', StringType(), True), StructField('author.last_played', StringType(), True)])"
      ]
     },
     "execution_count": 42,
     "metadata": {},
     "output_type": "execute_result"
    }
   ],
   "source": [
    "df.schema"
   ]
  },
  {
   "cell_type": "code",
   "execution_count": 44,
   "metadata": {},
   "outputs": [
    {
     "data": {
      "text/plain": [
       "StructType([StructField('_c0', StringType(), True), StructField('app_id', StringType(), True), StructField('app_name', StringType(), True), StructField('review_id', StringType(), True), StructField('language', StringType(), True), StructField('review', StringType(), True), StructField('timestamp_created', StringType(), True), StructField('timestamp_updated', StringType(), True), StructField('recommended', StringType(), True), StructField('votes_helpful', StringType(), True), StructField('votes_funny', StringType(), True), StructField('weighted_vote_score', StringType(), True), StructField('comment_count', StringType(), True), StructField('steam_purchase', StringType(), True), StructField('received_for_free', StringType(), True), StructField('written_during_early_access', StringType(), True), StructField('author_steamid', StringType(), True), StructField('author_num_games_owned', StringType(), True), StructField('author_num_reviews', StringType(), True), StructField('author_playtime_forever', StringType(), True), StructField('author_playtime_last_two_weeks', StringType(), True), StructField('author_playtime_at_review', StringType(), True), StructField('author_last_played', StringType(), True)])"
      ]
     },
     "execution_count": 44,
     "metadata": {},
     "output_type": "execute_result"
    }
   ],
   "source": [
    "# we reaplce all the dots with _ in the column names\n",
    "from pyspark.sql.types import IntegerType\n",
    "from pyspark.sql.functions import col\n",
    "\n",
    "new_columns = [c.replace(\".\", \"_\") for c in df.columns]\n",
    "\n",
    "df = df.toDF(*new_columns)\n",
    "df.schema\n"
   ]
  },
  {
   "cell_type": "code",
   "execution_count": 55,
   "metadata": {},
   "outputs": [],
   "source": [
    "#change the author.playtime_forever to int:\n",
    "from pyspark.sql.functions import round\n",
    "df = df.withColumn(\"author_playtime_forever_hrs\", round(df[\"author_playtime_forever\"].cast(IntegerType())/60))\n",
    "\n"
   ]
  },
  {
   "cell_type": "code",
   "execution_count": 56,
   "metadata": {},
   "outputs": [
    {
     "name": "stderr",
     "output_type": "stream",
     "text": [
      "24/02/01 20:14:36 WARN CSVHeaderChecker: CSV header does not conform to the schema.\n",
      " Header: , app_id, app_name, review_id, language, review, timestamp_created, timestamp_updated, recommended, votes_helpful, votes_funny, weighted_vote_score, comment_count, steam_purchase, received_for_free, written_during_early_access, author.steamid, author.num_games_owned, author.num_reviews, author.playtime_forever, author.playtime_last_two_weeks, author.playtime_at_review, author.last_played\n",
      " Schema: _c0, app_id, app_name, review_id, language, review, timestamp_created, timestamp_updated, recommended, votes_helpful, votes_funny, weighted_vote_score, comment_count, steam_purchase, received_for_free, written_during_early_access, author.steamid, author.num_games_owned, author.num_reviews, author.playtime_forever, author.playtime_last_two_weeks, author.playtime_at_review, author.last_played\n",
      "Expected: _c0 but found: \n",
      "CSV file: file:///Users/alexandergunawan/data_engineer/data/steam_reviews.csv\n"
     ]
    },
    {
     "data": {
      "text/plain": [
       "[Row(_c0='0', app_id='292030', app_name='The Witcher 3: Wild Hunt', review_id='85185598', language='schinese', review='不玩此生遗憾，RPG游戏里的天花板，太吸引人了', timestamp_created='1611381629', timestamp_updated='1611381629', recommended='True', votes_helpful='0', votes_funny='0', weighted_vote_score='0.0', comment_count='0', steam_purchase='True', received_for_free='False', written_during_early_access='False', author_steamid='76561199095369542', author_num_games_owned='6', author_num_reviews='2', author_playtime_forever='1909.0', author_playtime_last_two_weeks='1448.0', author_playtime_at_review='1909.0', author_last_played='1611343383.0', author_playtime_forever_hrs=32.0),\n",
       " Row(_c0='1', app_id='292030', app_name='The Witcher 3: Wild Hunt', review_id='85185250', language='schinese', review='拔DIAO无情打桩机--杰洛特!!!', timestamp_created='1611381030', timestamp_updated='1611381030', recommended='True', votes_helpful='0', votes_funny='0', weighted_vote_score='0.0', comment_count='0', steam_purchase='True', received_for_free='False', written_during_early_access='False', author_steamid='76561198949504115', author_num_games_owned='30', author_num_reviews='10', author_playtime_forever='2764.0', author_playtime_last_two_weeks='2743.0', author_playtime_at_review='2674.0', author_last_played='1611386307.0', author_playtime_forever_hrs=46.0),\n",
       " Row(_c0='2', app_id='292030', app_name='The Witcher 3: Wild Hunt', review_id='85185111', language='schinese', review='巫师3NB', timestamp_created='1611380800', timestamp_updated='1611380800', recommended='True', votes_helpful='0', votes_funny='0', weighted_vote_score='0.0', comment_count='0', steam_purchase='True', received_for_free='False', written_during_early_access='False', author_steamid='76561199090098988', author_num_games_owned='5', author_num_reviews='1', author_playtime_forever='1061.0', author_playtime_last_two_weeks='1061.0', author_playtime_at_review='1060.0', author_last_played='1611383777.0', author_playtime_forever_hrs=18.0),\n",
       " Row(_c0='3', app_id='292030', app_name='The Witcher 3: Wild Hunt', review_id='85184605', language='english', review=\"One of the best RPG's of all time, worthy of any collection\", timestamp_created='1611379970', timestamp_updated='1611379970', recommended='True', votes_helpful='0', votes_funny='0', weighted_vote_score='0.0', comment_count='0', steam_purchase='True', received_for_free='False', written_during_early_access='False', author_steamid='76561199054755373', author_num_games_owned='5', author_num_reviews='3', author_playtime_forever='5587.0', author_playtime_last_two_weeks='3200.0', author_playtime_at_review='5524.0', author_last_played='1611383744.0', author_playtime_forever_hrs=93.0),\n",
       " Row(_c0='4', app_id='292030', app_name='The Witcher 3: Wild Hunt', review_id='85184287', language='schinese', review='大作', timestamp_created='1611379427', timestamp_updated='1611379427', recommended='True', votes_helpful='0', votes_funny='0', weighted_vote_score='0.0', comment_count='0', steam_purchase='True', received_for_free='False', written_during_early_access='False', author_steamid='76561199028326951', author_num_games_owned='7', author_num_reviews='4', author_playtime_forever='217.0', author_playtime_last_two_weeks='42.0', author_playtime_at_review='217.0', author_last_played='1610788249.0', author_playtime_forever_hrs=4.0)]"
      ]
     },
     "execution_count": 56,
     "metadata": {},
     "output_type": "execute_result"
    }
   ],
   "source": [
    "df.head(5)"
   ]
  },
  {
   "cell_type": "code",
   "execution_count": 58,
   "metadata": {},
   "outputs": [
    {
     "name": "stderr",
     "output_type": "stream",
     "text": [
      "[Stage 38:>                                                         (0 + 1) / 1]\r"
     ]
    },
    {
     "name": "stdout",
     "output_type": "stream",
     "text": [
      "+-----------------------------------------------------------+\n",
      "|percentile_approx(author_playtime_forever_hrs, 0.95, 10000)|\n",
      "+-----------------------------------------------------------+\n",
      "|1436.0                                                     |\n",
      "+-----------------------------------------------------------+\n",
      "\n"
     ]
    },
    {
     "name": "stderr",
     "output_type": "stream",
     "text": [
      "                                                                                \r"
     ]
    }
   ],
   "source": [
    "# figure out how many hours are played - the top 1% percentile. \n",
    "# This is a good way to find out how many hours are played by the most active players\n",
    "\n",
    "df.createOrReplaceTempView(\"steam_reviews\") #created temporary view named steam_reviews using df.\n",
    "result = spark.sql(\"SELECT percentile_approx(author_playtime_forever_hrs, 0.95) FROM steam_reviews\")\n",
    "result.show(truncate=False)\n",
    "\n",
    "# the 95th percentile played more than 1436 hours. "
   ]
  },
  {
   "cell_type": "code",
   "execution_count": 63,
   "metadata": {},
   "outputs": [
    {
     "name": "stderr",
     "output_type": "stream",
     "text": [
      "24/02/01 20:18:13 WARN CSVHeaderChecker: CSV header does not conform to the schema.\n",
      " Header: , app_id, app_name, review_id, language, review, timestamp_created, timestamp_updated, recommended, votes_helpful, votes_funny, weighted_vote_score, comment_count, steam_purchase, received_for_free, written_during_early_access, author.steamid, author.num_games_owned, author.num_reviews, author.playtime_forever, author.playtime_last_two_weeks, author.playtime_at_review, author.last_played\n",
      " Schema: _c0, app_id, app_name, review_id, language, review, timestamp_created, timestamp_updated, recommended, votes_helpful, votes_funny, weighted_vote_score, comment_count, steam_purchase, received_for_free, written_during_early_access, author.steamid, author.num_games_owned, author.num_reviews, author.playtime_forever, author.playtime_last_two_weeks, author.playtime_at_review, author.last_played\n",
      "Expected: _c0 but found: \n",
      "CSV file: file:///Users/alexandergunawan/data_engineer/data/steam_reviews.csv\n"
     ]
    },
    {
     "name": "stdout",
     "output_type": "stream",
     "text": [
      "+-----+------+--------------------+---------+--------+--------------------+-----------------+-----------------+-----------+-------------+-----------+-------------------+-------------+--------------+-----------------+---------------------------+-----------------+----------------------+------------------+-----------------------+------------------------------+-------------------------+------------------+---------------------------+\n",
      "|  _c0|app_id|            app_name|review_id|language|              review|timestamp_created|timestamp_updated|recommended|votes_helpful|votes_funny|weighted_vote_score|comment_count|steam_purchase|received_for_free|written_during_early_access|   author_steamid|author_num_games_owned|author_num_reviews|author_playtime_forever|author_playtime_last_two_weeks|author_playtime_at_review|author_last_played|author_playtime_forever_hrs|\n",
      "+-----+------+--------------------+---------+--------+--------------------+-----------------+-----------------+-----------+-------------+-----------+-------------------+-------------+--------------+-----------------+---------------------------+-----------------+----------------------+------------------+-----------------------+------------------------------+-------------------------+------------------+---------------------------+\n",
      "| 7698|292030|The Witcher 3: Wi...| 83932749| english|While 5yrs after ...|       1609704272|       1610824728|       True|            0|          0|                0.0|            0|          True|            False|                      False|76561197982416990|                    54|                13|               125634.0|                         239.0|                 125611.0|      1610849239.0|                     2094.0|\n",
      "|17638|292030|The Witcher 3: Wi...| 82539621| english|Enjoyed the chara...|       1608181753|       1608181753|       True|            1|          0|  0.523809552192688|            0|         False|            False|                      False|76561198058416161|                    12|                 1|                98668.0|                           0.0|                  98665.0|      1608182421.0|                     1644.0|\n",
      "|18618|292030|The Witcher 3: Wi...| 82408224| english|it's pretty good ...|       1608014218|       1608014218|       True|            1|          4| 0.4781155288219452|            0|         False|            False|                      False|76561198041602627|                   211|                 4|               204856.0|                           0.0|                 204852.0|      1609994431.0|                     3414.0|\n",
      "|26478|292030|The Witcher 3: Wi...| 81251073| english|                 ,,,|       1606756881|       1606756881|       True|            0|          0|                0.0|            0|          True|            False|                      False|76561198082946807|                    32|                 1|               102595.0|                        3011.0|                  99583.0|      1611387992.0|                     1710.0|\n",
      "|34773|292030|The Witcher 3: Wi...| 80234459| english|𝒀𝒐𝒖 𝒎𝒂𝒚 𝒏?...|       1606386506|       1606386506|       True|            9|          0| 0.5357953906059265|            0|          True|            False|                      False|76561198074844601|                   223|                 2|               350529.0|                         777.0|                 339127.0|      1611329236.0|                     5842.0|\n",
      "+-----+------+--------------------+---------+--------+--------------------+-----------------+-----------------+-----------+-------------+-----------+-------------------+-------------+--------------+-----------------+---------------------------+-----------------+----------------------+------------------+-----------------------+------------------------------+-------------------------+------------------+---------------------------+\n",
      "only showing top 5 rows\n",
      "\n"
     ]
    },
    {
     "name": "stderr",
     "output_type": "stream",
     "text": [
      "                                                                                \r"
     ]
    }
   ],
   "source": [
    "# display 5 rows where the playtime is above the 99th percentile\n",
    "df.filter((df[\"author_playtime_forever_hrs\"] > 1436) & (df[\"author_playtime_forever_hrs\"] < 100000)& (df[\"language\"]==\"english\")).show(5)"
   ]
  }
 ],
 "metadata": {
  "kernelspec": {
   "display_name": "dataeng",
   "language": "python",
   "name": "python3"
  },
  "language_info": {
   "codemirror_mode": {
    "name": "ipython",
    "version": 3
   },
   "file_extension": ".py",
   "mimetype": "text/x-python",
   "name": "python",
   "nbconvert_exporter": "python",
   "pygments_lexer": "ipython3",
   "version": "3.11.5"
  }
 },
 "nbformat": 4,
 "nbformat_minor": 2
}
