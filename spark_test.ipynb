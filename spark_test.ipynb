{
 "cells": [
  {
   "cell_type": "code",
   "execution_count": 1,
   "metadata": {},
   "outputs": [
    {
     "name": "stderr",
     "output_type": "stream",
     "text": [
      "24/02/04 21:09:06 WARN Utils: Your hostname, Alexanders-MacBook-Pro-3.local resolves to a loopback address: 127.0.0.1; using 192.168.2.6 instead (on interface en0)\n",
      "24/02/04 21:09:06 WARN Utils: Set SPARK_LOCAL_IP if you need to bind to another address\n",
      "Setting default log level to \"WARN\".\n",
      "To adjust logging level use sc.setLogLevel(newLevel). For SparkR, use setLogLevel(newLevel).\n",
      "24/02/04 21:09:07 WARN NativeCodeLoader: Unable to load native-hadoop library for your platform... using builtin-java classes where applicable\n"
     ]
    },
    {
     "name": "stdout",
     "output_type": "stream",
     "text": [
      "+---------------------------+----------+--------------------+---------+--------+------------------------------------+-----------------+-----------------+-----------+-------------+-----------+-------------------+-------------+--------------+-----------------+---------------------------+-----------------+----------------------+------------------+-----------------------+------------------------------+-------------------------+------------------+\n",
      "|                        _c0|    app_id|            app_name|review_id|language|                              review|timestamp_created|timestamp_updated|recommended|votes_helpful|votes_funny|weighted_vote_score|comment_count|steam_purchase|received_for_free|written_during_early_access|   author.steamid|author.num_games_owned|author.num_reviews|author.playtime_forever|author.playtime_last_two_weeks|author.playtime_at_review|author.last_played|\n",
      "+---------------------------+----------+--------------------+---------+--------+------------------------------------+-----------------+-----------------+-----------+-------------+-----------+-------------------+-------------+--------------+-----------------+---------------------------+-----------------+----------------------+------------------+-----------------------+------------------------------+-------------------------+------------------+\n",
      "|                          0|    292030|The Witcher 3: Wi...| 85185598|schinese|  不玩此生遗憾，RPG游戏里的天花板...|       1611381629|       1611381629|       True|            0|          0|                0.0|            0|          True|            False|                      False|76561199095369542|                     6|                 2|                 1909.0|                        1448.0|                   1909.0|      1611343383.0|\n",
      "|                          1|    292030|The Witcher 3: Wi...| 85185250|schinese|         拔DIAO无情打桩机--杰洛特!!!|       1611381030|       1611381030|       True|            0|          0|                0.0|            0|          True|            False|                      False|76561198949504115|                    30|                10|                 2764.0|                        2743.0|                   2674.0|      1611386307.0|\n",
      "|                          2|    292030|The Witcher 3: Wi...| 85185111|schinese|                             巫师3NB|       1611380800|       1611380800|       True|            0|          0|                0.0|            0|          True|            False|                      False|76561199090098988|                     5|                 1|                 1061.0|                        1061.0|                   1060.0|      1611383777.0|\n",
      "|                          3|    292030|The Witcher 3: Wi...| 85184605| english|                One of the best R...|       1611379970|       1611379970|       True|            0|          0|                0.0|            0|          True|            False|                      False|76561199054755373|                     5|                 3|                 5587.0|                        3200.0|                   5524.0|      1611383744.0|\n",
      "|                          4|    292030|The Witcher 3: Wi...| 85184287|schinese|                                大作|       1611379427|       1611379427|       True|            0|          0|                0.0|            0|          True|            False|                      False|76561199028326951|                     7|                 4|                  217.0|                          42.0|                    217.0|      1610788249.0|\n",
      "|                          5|    292030|The Witcher 3: Wi...| 85184171| english|                good story, good ...|       1611379264|       1611379264|       True|            0|          0|                0.0|            0|          True|            False|                      False|76561198170193529|                    11|                 1|                  823.0|                         823.0|                    823.0|      1611379201.0|\n",
      "|                          6|    292030|The Witcher 3: Wi...| 85184064| english|                            dis gud,|       1611379091|       1611379091|       True|            0|          0|                0.0|            0|          True|            False|                      False|76561198119302812|                    27|                 2|                 4192.0|                        3398.0|                   4192.0|      1611351734.0|\n",
      "|                          7|    292030|The Witcher 3: Wi...| 85183602| turkish|                                   .|             NULL|             NULL|       NULL|         NULL|       NULL|               NULL|         NULL|          NULL|             NULL|                       NULL|             NULL|                  NULL|              NULL|                   NULL|                          NULL|                     NULL|              NULL|\n",
      "|       ,1611378312,16113...|      NULL|                NULL|     NULL|    NULL|                                NULL|             NULL|             NULL|       NULL|         NULL|       NULL|               NULL|         NULL|          NULL|             NULL|                       NULL|             NULL|                  NULL|              NULL|                   NULL|                          NULL|                     NULL|              NULL|\n",
      "|                          8|    292030|The Witcher 3: Wi...| 85183227|schinese|    年度最佳的作品，没啥好夸的，神作|       1611377703|       1611377703|       True|            0|          0|                0.0|            0|          True|            False|                      False|76561198130808993|                   581|                17|                 6921.0|                         222.0|                   6921.0|      1611317275.0|\n",
      "|                          9|    292030|The Witcher 3: Wi...| 85182785| spanish|                          great game|       1611377005|       1611377005|       True|            0|          0|                0.0|            0|          True|            False|                      False|76561198301724112|                    38|                 5|                 2399.0|                         333.0|                   2364.0|      1611379080.0|\n",
      "|                         10|    292030|The Witcher 3: Wi...| 85182697|schinese|                          神作！不bb|       1611376831|       1611376831|       True|            0|          0|                0.0|            0|         False|            False|                      False|76561199089209577|                    29|                 1|                 5368.0|                        1471.0|                   5368.0|      1611371665.0|\n",
      "|                         11|    292030|The Witcher 3: Wi...| 85182372| russian|                Шикарная игра с о...|       1611376281|       1611376281|       True|            0|          0|                0.0|            0|          True|            False|                      False|76561198257031328|                    11|                 2|                  508.0|                         508.0|                    348.0|      1611386568.0|\n",
      "|                         12|    292030|The Witcher 3: Wi...| 85182067|schinese|   \"什么?你儿子失踪了?什么?这栋房...|             NULL|             NULL|       NULL|         NULL|       NULL|               NULL|         NULL|          NULL|             NULL|                       NULL|             NULL|                  NULL|              NULL|                   NULL|                          NULL|                     NULL|              NULL|\n",
      "|抱歉这个梗我玩一辈子(狗头)\"|1611375772|          1611375772|     True|       0|                                   0|              0.0|                0|       True|        False|      False|  76561198348941585|           20|             1|           6598.0|                       29.0|           6598.0|          1610715923.0|              NULL|                   NULL|                          NULL|                     NULL|              NULL|\n",
      "|                         13|    292030|The Witcher 3: Wi...| 85181146| russian|                Замечательная кар...|       1611374238|       1611374309|       True|            0|          0|                0.0|            0|          True|            False|                      False|76561197987104694|                   501|                23|                 7310.0|                           0.0|                   7310.0|      1525554549.0|\n",
      "|                         14|    292030|The Witcher 3: Wi...| 85181114| koreana|                           가성비 짱|       1611374195|       1611374195|       True|            0|          0|                0.0|            0|          True|            False|                      False|76561199120263118|                     1|                 1|                 3285.0|                        3084.0|                   3205.0|      1611385840.0|\n",
      "|                         15|    292030|The Witcher 3: Wi...| 85180815|   latam|                The witcher 3 es ...|       1611373708|       1611373708|       True|            0|          0|                0.0|            0|          True|            False|                      False|76561198301696591|                     5|                 1|                 3586.0|                           0.0|                   3586.0|      1609390978.0|\n",
      "|                         16|    292030|The Witcher 3: Wi...| 85180734|schinese|当你玩进去之后，一切都顺理成章了起来|       1611373593|       1611373593|       True|            0|          0|                0.0|            0|          True|            False|                      False|76561198985671330|                     9|                 1|                 5483.0|                        2184.0|                   5483.0|      1611371203.0|\n",
      "|                         17|    292030|The Witcher 3: Wi...| 85180438|schinese|                    剑舞天下无敌！！|       1611373087|       1611373087|       True|            0|          0|                0.0|            0|         False|            False|                      False|76561198149550625|                    66|                 7|                 5442.0|                        1643.0|                   5396.0|      1611386646.0|\n",
      "+---------------------------+----------+--------------------+---------+--------+------------------------------------+-----------------+-----------------+-----------+-------------+-----------+-------------------+-------------+--------------+-----------------+---------------------------+-----------------+----------------------+------------------+-----------------------+------------------------------+-------------------------+------------------+\n",
      "only showing top 20 rows\n",
      "\n"
     ]
    },
    {
     "name": "stderr",
     "output_type": "stream",
     "text": [
      "24/02/04 21:09:13 WARN CSVHeaderChecker: CSV header does not conform to the schema.\n",
      " Header: , app_id, app_name, review_id, language, review, timestamp_created, timestamp_updated, recommended, votes_helpful, votes_funny, weighted_vote_score, comment_count, steam_purchase, received_for_free, written_during_early_access, author.steamid, author.num_games_owned, author.num_reviews, author.playtime_forever, author.playtime_last_two_weeks, author.playtime_at_review, author.last_played\n",
      " Schema: _c0, app_id, app_name, review_id, language, review, timestamp_created, timestamp_updated, recommended, votes_helpful, votes_funny, weighted_vote_score, comment_count, steam_purchase, received_for_free, written_during_early_access, author.steamid, author.num_games_owned, author.num_reviews, author.playtime_forever, author.playtime_last_two_weeks, author.playtime_at_review, author.last_played\n",
      "Expected: _c0 but found: \n",
      "CSV file: file:///Users/alexandergunawan/data_engineer/data/steam_reviews.csv\n"
     ]
    }
   ],
   "source": [
    "import pyspark\n",
    "from pyspark.sql import SparkSession\n",
    "\n",
    "spark = SparkSession.builder.master(\"local[*]\").appName(\"test\").getOrCreate()\n",
    "\n",
    "df = spark.read.option(\"header\", \"true\").csv(\"data/steam_reviews.csv\")\n",
    "df.show()\n",
    "\n"
   ]
  },
  {
   "cell_type": "code",
   "execution_count": 2,
   "metadata": {},
   "outputs": [
    {
     "data": {
      "text/plain": [
       "StructType([StructField('_c0', StringType(), True), StructField('app_id', StringType(), True), StructField('app_name', StringType(), True), StructField('review_id', StringType(), True), StructField('language', StringType(), True), StructField('review', StringType(), True), StructField('timestamp_created', StringType(), True), StructField('timestamp_updated', StringType(), True), StructField('recommended', StringType(), True), StructField('votes_helpful', StringType(), True), StructField('votes_funny', StringType(), True), StructField('weighted_vote_score', StringType(), True), StructField('comment_count', StringType(), True), StructField('steam_purchase', StringType(), True), StructField('received_for_free', StringType(), True), StructField('written_during_early_access', StringType(), True), StructField('author.steamid', StringType(), True), StructField('author.num_games_owned', StringType(), True), StructField('author.num_reviews', StringType(), True), StructField('author.playtime_forever', StringType(), True), StructField('author.playtime_last_two_weeks', StringType(), True), StructField('author.playtime_at_review', StringType(), True), StructField('author.last_played', StringType(), True)])"
      ]
     },
     "execution_count": 2,
     "metadata": {},
     "output_type": "execute_result"
    }
   ],
   "source": [
    "df.schema"
   ]
  },
  {
   "cell_type": "code",
   "execution_count": 4,
   "metadata": {},
   "outputs": [
    {
     "data": {
      "text/plain": [
       "StructType([StructField('_c0', StringType(), True), StructField('app_id', StringType(), True), StructField('app_name', StringType(), True), StructField('review_id', StringType(), True), StructField('language', StringType(), True), StructField('review', StringType(), True), StructField('timestamp_created', StringType(), True), StructField('timestamp_updated', StringType(), True), StructField('recommended', StringType(), True), StructField('votes_helpful', StringType(), True), StructField('votes_funny', StringType(), True), StructField('weighted_vote_score', StringType(), True), StructField('comment_count', StringType(), True), StructField('steam_purchase', StringType(), True), StructField('received_for_free', StringType(), True), StructField('written_during_early_access', StringType(), True), StructField('author_steamid', StringType(), True), StructField('author_num_games_owned', StringType(), True), StructField('author_num_reviews', StringType(), True), StructField('author_playtime_forever', StringType(), True), StructField('author_playtime_last_two_weeks', StringType(), True), StructField('author_playtime_at_review', StringType(), True), StructField('author_last_played', StringType(), True)])"
      ]
     },
     "execution_count": 4,
     "metadata": {},
     "output_type": "execute_result"
    }
   ],
   "source": [
    "# we reaplce all the dots with _ in the column names\n",
    "from pyspark.sql.types import IntegerType\n",
    "from pyspark.sql.functions import col\n",
    "\n",
    "new_columns = [c.replace(\".\", \"_\") for c in df.columns]\n",
    "\n",
    "df = df.toDF(*new_columns)\n",
    "df.schema\n"
   ]
  },
  {
   "cell_type": "code",
   "execution_count": 5,
   "metadata": {},
   "outputs": [],
   "source": [
    "#change the author.playtime_forever to int:\n",
    "from pyspark.sql.functions import round\n",
    "df = df.withColumn(\"author_playtime_forever_hrs\", round(df[\"author_playtime_forever\"].cast(IntegerType())/60))\n",
    "\n"
   ]
  },
  {
   "cell_type": "code",
   "execution_count": 21,
   "metadata": {},
   "outputs": [
    {
     "name": "stdout",
     "output_type": "stream",
     "text": [
      "+---------------------------+----------+--------------------+---------+--------+------------------------------------+-----------------+-----------------+-----------+-------------+-----------+-------------------+-------------+--------------+-----------------+---------------------------+-----------------+----------------------+------------------+-----------------------+------------------------------+-------------------------+------------------+---------------------------+--------+\n",
      "|                        _c0|    app_id|            app_name|review_id|language|                              review|timestamp_created|timestamp_updated|recommended|votes_helpful|votes_funny|weighted_vote_score|comment_count|steam_purchase|received_for_free|written_during_early_access|   author_steamid|author_num_games_owned|author_num_reviews|author_playtime_forever|author_playtime_last_two_weeks|author_playtime_at_review|author_last_played|author_playtime_forever_hrs|numNulls|\n",
      "+---------------------------+----------+--------------------+---------+--------+------------------------------------+-----------------+-----------------+-----------+-------------+-----------+-------------------+-------------+--------------+-----------------+---------------------------+-----------------+----------------------+------------------+-----------------------+------------------------------+-------------------------+------------------+---------------------------+--------+\n",
      "|                          0|    292030|The Witcher 3: Wi...| 85185598|schinese|  不玩此生遗憾，RPG游戏里的天花板...|       1611381629|       1611381629|       True|            0|          0|                0.0|            0|          True|            False|                      False|76561199095369542|                     6|                 2|                 1909.0|                        1448.0|                   1909.0|      1611343383.0|                       32.0|       0|\n",
      "|                          1|    292030|The Witcher 3: Wi...| 85185250|schinese|         拔DIAO无情打桩机--杰洛特!!!|       1611381030|       1611381030|       True|            0|          0|                0.0|            0|          True|            False|                      False|76561198949504115|                    30|                10|                 2764.0|                        2743.0|                   2674.0|      1611386307.0|                       46.0|       0|\n",
      "|                          2|    292030|The Witcher 3: Wi...| 85185111|schinese|                             巫师3NB|       1611380800|       1611380800|       True|            0|          0|                0.0|            0|          True|            False|                      False|76561199090098988|                     5|                 1|                 1061.0|                        1061.0|                   1060.0|      1611383777.0|                       18.0|       0|\n",
      "|                          3|    292030|The Witcher 3: Wi...| 85184605| english|                One of the best R...|       1611379970|       1611379970|       True|            0|          0|                0.0|            0|          True|            False|                      False|76561199054755373|                     5|                 3|                 5587.0|                        3200.0|                   5524.0|      1611383744.0|                       93.0|       0|\n",
      "|                          4|    292030|The Witcher 3: Wi...| 85184287|schinese|                                大作|       1611379427|       1611379427|       True|            0|          0|                0.0|            0|          True|            False|                      False|76561199028326951|                     7|                 4|                  217.0|                          42.0|                    217.0|      1610788249.0|                        4.0|       0|\n",
      "|                          5|    292030|The Witcher 3: Wi...| 85184171| english|                good story, good ...|       1611379264|       1611379264|       True|            0|          0|                0.0|            0|          True|            False|                      False|76561198170193529|                    11|                 1|                  823.0|                         823.0|                    823.0|      1611379201.0|                       14.0|       0|\n",
      "|                          6|    292030|The Witcher 3: Wi...| 85184064| english|                            dis gud,|       1611379091|       1611379091|       True|            0|          0|                0.0|            0|          True|            False|                      False|76561198119302812|                    27|                 2|                 4192.0|                        3398.0|                   4192.0|      1611351734.0|                       70.0|       0|\n",
      "|                          7|    292030|The Witcher 3: Wi...| 85183602| turkish|                                   .|             NULL|             NULL|       NULL|         NULL|       NULL|               NULL|         NULL|          NULL|             NULL|                       NULL|             NULL|                  NULL|              NULL|                   NULL|                          NULL|                     NULL|              NULL|                       NULL|      18|\n",
      "|       ,1611378312,16113...|      NULL|                NULL|     NULL|    NULL|                                NULL|             NULL|             NULL|       NULL|         NULL|       NULL|               NULL|         NULL|          NULL|             NULL|                       NULL|             NULL|                  NULL|              NULL|                   NULL|                          NULL|                     NULL|              NULL|                       NULL|      23|\n",
      "|                          8|    292030|The Witcher 3: Wi...| 85183227|schinese|    年度最佳的作品，没啥好夸的，神作|       1611377703|       1611377703|       True|            0|          0|                0.0|            0|          True|            False|                      False|76561198130808993|                   581|                17|                 6921.0|                         222.0|                   6921.0|      1611317275.0|                      115.0|       0|\n",
      "|                          9|    292030|The Witcher 3: Wi...| 85182785| spanish|                          great game|       1611377005|       1611377005|       True|            0|          0|                0.0|            0|          True|            False|                      False|76561198301724112|                    38|                 5|                 2399.0|                         333.0|                   2364.0|      1611379080.0|                       40.0|       0|\n",
      "|                         10|    292030|The Witcher 3: Wi...| 85182697|schinese|                          神作！不bb|       1611376831|       1611376831|       True|            0|          0|                0.0|            0|         False|            False|                      False|76561199089209577|                    29|                 1|                 5368.0|                        1471.0|                   5368.0|      1611371665.0|                       89.0|       0|\n",
      "|                         11|    292030|The Witcher 3: Wi...| 85182372| russian|                Шикарная игра с о...|       1611376281|       1611376281|       True|            0|          0|                0.0|            0|          True|            False|                      False|76561198257031328|                    11|                 2|                  508.0|                         508.0|                    348.0|      1611386568.0|                        8.0|       0|\n",
      "|                         12|    292030|The Witcher 3: Wi...| 85182067|schinese|   \"什么?你儿子失踪了?什么?这栋房...|             NULL|             NULL|       NULL|         NULL|       NULL|               NULL|         NULL|          NULL|             NULL|                       NULL|             NULL|                  NULL|              NULL|                   NULL|                          NULL|                     NULL|              NULL|                       NULL|      18|\n",
      "|抱歉这个梗我玩一辈子(狗头)\"|1611375772|          1611375772|     True|       0|                                   0|              0.0|                0|       True|        False|      False|  76561198348941585|           20|             1|           6598.0|                       29.0|           6598.0|          1610715923.0|              NULL|                   NULL|                          NULL|                     NULL|              NULL|                       NULL|       6|\n",
      "|                         13|    292030|The Witcher 3: Wi...| 85181146| russian|                Замечательная кар...|       1611374238|       1611374309|       True|            0|          0|                0.0|            0|          True|            False|                      False|76561197987104694|                   501|                23|                 7310.0|                           0.0|                   7310.0|      1525554549.0|                      122.0|       0|\n",
      "|                         14|    292030|The Witcher 3: Wi...| 85181114| koreana|                           가성비 짱|       1611374195|       1611374195|       True|            0|          0|                0.0|            0|          True|            False|                      False|76561199120263118|                     1|                 1|                 3285.0|                        3084.0|                   3205.0|      1611385840.0|                       55.0|       0|\n",
      "|                         15|    292030|The Witcher 3: Wi...| 85180815|   latam|                The witcher 3 es ...|       1611373708|       1611373708|       True|            0|          0|                0.0|            0|          True|            False|                      False|76561198301696591|                     5|                 1|                 3586.0|                           0.0|                   3586.0|      1609390978.0|                       60.0|       0|\n",
      "|                         16|    292030|The Witcher 3: Wi...| 85180734|schinese|当你玩进去之后，一切都顺理成章了起来|       1611373593|       1611373593|       True|            0|          0|                0.0|            0|          True|            False|                      False|76561198985671330|                     9|                 1|                 5483.0|                        2184.0|                   5483.0|      1611371203.0|                       91.0|       0|\n",
      "|                         17|    292030|The Witcher 3: Wi...| 85180438|schinese|                    剑舞天下无敌！！|       1611373087|       1611373087|       True|            0|          0|                0.0|            0|         False|            False|                      False|76561198149550625|                    66|                 7|                 5442.0|                        1643.0|                   5396.0|      1611386646.0|                       91.0|       0|\n",
      "+---------------------------+----------+--------------------+---------+--------+------------------------------------+-----------------+-----------------+-----------+-------------+-----------+-------------------+-------------+--------------+-----------------+---------------------------+-----------------+----------------------+------------------+-----------------------+------------------------------+-------------------------+------------------+---------------------------+--------+\n",
      "only showing top 20 rows\n",
      "\n"
     ]
    },
    {
     "name": "stderr",
     "output_type": "stream",
     "text": [
      "24/02/04 21:40:36 WARN CSVHeaderChecker: CSV header does not conform to the schema.\n",
      " Header: , app_id, app_name, review_id, language, review, timestamp_created, timestamp_updated, recommended, votes_helpful, votes_funny, weighted_vote_score, comment_count, steam_purchase, received_for_free, written_during_early_access, author.steamid, author.num_games_owned, author.num_reviews, author.playtime_forever, author.playtime_last_two_weeks, author.playtime_at_review, author.last_played\n",
      " Schema: _c0, app_id, app_name, review_id, language, review, timestamp_created, timestamp_updated, recommended, votes_helpful, votes_funny, weighted_vote_score, comment_count, steam_purchase, received_for_free, written_during_early_access, author.steamid, author.num_games_owned, author.num_reviews, author.playtime_forever, author.playtime_last_two_weeks, author.playtime_at_review, author.last_played\n",
      "Expected: _c0 but found: \n",
      "CSV file: file:///Users/alexandergunawan/data_engineer/data/steam_reviews.csv\n"
     ]
    }
   ],
   "source": [
    "df.withColumn('numNulls', sum(df[col].isNull().cast('int') for col in df.columns)).show()\n",
    "#seems like thre are a few rowstaht are weird, as in all null. we will drop these rows.\n"
   ]
  },
  {
   "cell_type": "code",
   "execution_count": 24,
   "metadata": {},
   "outputs": [],
   "source": [
    "df = df.na.drop() #drop rows\n"
   ]
  },
  {
   "cell_type": "code",
   "execution_count": 25,
   "metadata": {},
   "outputs": [
    {
     "name": "stderr",
     "output_type": "stream",
     "text": [
      "24/02/04 21:43:24 WARN CSVHeaderChecker: CSV header does not conform to the schema.\n",
      " Header: , app_id, app_name, review_id, language, review, timestamp_created, timestamp_updated, recommended, votes_helpful, votes_funny, weighted_vote_score, comment_count, steam_purchase, received_for_free, written_during_early_access, author.steamid, author.num_games_owned, author.num_reviews, author.playtime_forever, author.playtime_last_two_weeks, author.playtime_at_review, author.last_played\n",
      " Schema: _c0, app_id, app_name, review_id, language, review, timestamp_created, timestamp_updated, recommended, votes_helpful, votes_funny, weighted_vote_score, comment_count, steam_purchase, received_for_free, written_during_early_access, author.steamid, author.num_games_owned, author.num_reviews, author.playtime_forever, author.playtime_last_two_weeks, author.playtime_at_review, author.last_played\n",
      "Expected: _c0 but found: \n",
      "CSV file: file:///Users/alexandergunawan/data_engineer/data/steam_reviews.csv\n",
      "[Stage 16:>                                                         (0 + 1) / 1]\r"
     ]
    },
    {
     "name": "stdout",
     "output_type": "stream",
     "text": [
      "+-----------------------------------------------------------+\n",
      "|percentile_approx(author_playtime_forever_hrs, 0.95, 10000)|\n",
      "+-----------------------------------------------------------+\n",
      "|1193.0                                                     |\n",
      "+-----------------------------------------------------------+\n",
      "\n"
     ]
    },
    {
     "name": "stderr",
     "output_type": "stream",
     "text": [
      "                                                                                \r"
     ]
    }
   ],
   "source": [
    "# figure out how many hours are played - the top 1% percentile. \n",
    "# This is a good way to find out how many hours are played by the most active players\n",
    "\n",
    "df.createOrReplaceTempView(\"steam_reviews\") #created temporary view named steam_reviews using df.\n",
    "result = spark.sql(\"SELECT percentile_approx(author_playtime_forever_hrs, 0.95) FROM steam_reviews\")\n",
    "result.show(truncate=False)\n",
    "\n",
    "# the 95th percentile played more than 1436 hours. "
   ]
  },
  {
   "cell_type": "code",
   "execution_count": null,
   "metadata": {},
   "outputs": [],
   "source": []
  },
  {
   "cell_type": "code",
   "execution_count": 26,
   "metadata": {},
   "outputs": [
    {
     "name": "stderr",
     "output_type": "stream",
     "text": [
      "24/02/04 21:51:00 WARN CSVHeaderChecker: CSV header does not conform to the schema.\n",
      " Header: , app_id, app_name, review_id, language, review, timestamp_created, timestamp_updated, recommended, votes_helpful, votes_funny, weighted_vote_score, comment_count, steam_purchase, received_for_free, written_during_early_access, author.steamid, author.num_games_owned, author.num_reviews, author.playtime_forever, author.playtime_last_two_weeks, author.playtime_at_review, author.last_played\n",
      " Schema: _c0, app_id, app_name, review_id, language, review, timestamp_created, timestamp_updated, recommended, votes_helpful, votes_funny, weighted_vote_score, comment_count, steam_purchase, received_for_free, written_during_early_access, author.steamid, author.num_games_owned, author.num_reviews, author.playtime_forever, author.playtime_last_two_weeks, author.playtime_at_review, author.last_played\n",
      "Expected: _c0 but found: \n",
      "CSV file: file:///Users/alexandergunawan/data_engineer/data/steam_reviews.csv\n",
      "[Stage 17:====>                                                   (5 + 16) / 61]\r"
     ]
    }
   ],
   "source": [
    "#create a new table app_id_table that contains the app_id and the title of the game\n",
    "spark.sql(\"SELECT DISTINCT app_id, app_name FROM steam_reviews\").show(5)"
   ]
  },
  {
   "cell_type": "code",
   "execution_count": 68,
   "metadata": {},
   "outputs": [
    {
     "name": "stderr",
     "output_type": "stream",
     "text": [
      "24/02/01 22:38:10 WARN CSVHeaderChecker: CSV header does not conform to the schema.\n",
      " Header: , app_id, app_name, review_id, language, review, timestamp_created, timestamp_updated, recommended, votes_helpful, votes_funny, weighted_vote_score, comment_count, steam_purchase, received_for_free, written_during_early_access, author.steamid, author.num_games_owned, author.num_reviews, author.playtime_forever, author.playtime_last_two_weeks, author.playtime_at_review, author.last_played\n",
      " Schema: _c0, app_id, app_name, review_id, language, review, timestamp_created, timestamp_updated, recommended, votes_helpful, votes_funny, weighted_vote_score, comment_count, steam_purchase, received_for_free, written_during_early_access, author.steamid, author.num_games_owned, author.num_reviews, author.playtime_forever, author.playtime_last_two_weeks, author.playtime_at_review, author.last_played\n",
      "Expected: _c0 but found: \n",
      "CSV file: file:///Users/alexandergunawan/data_engineer/data/steam_reviews.csv\n",
      "[Stage 52:====================================================>   (34 + 2) / 36]\r"
     ]
    },
    {
     "name": "stdout",
     "output_type": "stream",
     "text": [
      "+---+------+--------+---------+--------+------+-----------------+-----------------+-----------+-------------+-----------+-------------------+-------------+--------------+-----------------+---------------------------+--------------+----------------------+------------------+-----------------------+------------------------------+-------------------------+------------------+---------------------------+\n",
      "|_c0|app_id|app_name|review_id|language|review|timestamp_created|timestamp_updated|recommended|votes_helpful|votes_funny|weighted_vote_score|comment_count|steam_purchase|received_for_free|written_during_early_access|author_steamid|author_num_games_owned|author_num_reviews|author_playtime_forever|author_playtime_last_two_weeks|author_playtime_at_review|author_last_played|author_playtime_forever_hrs|\n",
      "+---+------+--------+---------+--------+------+-----------------+-----------------+-----------+-------------+-----------+-------------------+-------------+--------------+-----------------+---------------------------+--------------+----------------------+------------------+-----------------------+------------------------------+-------------------------+------------------+---------------------------+\n",
      "+---+------+--------+---------+--------+------+-----------------+-----------------+-----------+-------------+-----------+-------------------+-------------+--------------+-----------------+---------------------------+--------------+----------------------+------------------+-----------------------+------------------------------+-------------------------+------------------+---------------------------+\n",
      "\n"
     ]
    },
    {
     "name": "stderr",
     "output_type": "stream",
     "text": [
      "                                                                                \r"
     ]
    }
   ],
   "source": [
    "\\\\"
   ]
  },
  {
   "cell_type": "code",
   "execution_count": 65,
   "metadata": {},
   "outputs": [
    {
     "name": "stdout",
     "output_type": "stream",
     "text": [
      "== Physical Plan ==\n",
      "AdaptiveSparkPlan isFinalPlan=false\n",
      "+- HashAggregate(keys=[app_id#2043, app_name#2044], functions=[])\n",
      "   +- Exchange hashpartitioning(app_id#2043, app_name#2044, 200), ENSURE_REQUIREMENTS, [plan_id=650]\n",
      "      +- HashAggregate(keys=[app_id#2043, app_name#2044], functions=[])\n",
      "         +- FileScan csv [app_id#2043,app_name#2044] Batched: false, DataFilters: [], Format: CSV, Location: InMemoryFileIndex(1 paths)[file:/Users/alexandergunawan/data_engineer/data/steam_reviews.csv], PartitionFilters: [], PushedFilters: [], ReadSchema: struct<app_id:string,app_name:string>\n",
      "\n",
      "\n"
     ]
    }
   ],
   "source": [
    "\\"
   ]
  },
  {
   "cell_type": "code",
   "execution_count": null,
   "metadata": {},
   "outputs": [],
   "source": []
  }
 ],
 "metadata": {
  "kernelspec": {
   "display_name": "dataeng",
   "language": "python",
   "name": "python3"
  },
  "language_info": {
   "codemirror_mode": {
    "name": "ipython",
    "version": 3
   },
   "file_extension": ".py",
   "mimetype": "text/x-python",
   "name": "python",
   "nbconvert_exporter": "python",
   "pygments_lexer": "ipython3",
   "version": "3.11.5"
  }
 },
 "nbformat": 4,
 "nbformat_minor": 2
}
